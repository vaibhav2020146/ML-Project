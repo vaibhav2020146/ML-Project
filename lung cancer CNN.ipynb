{
 "cells": [
  {
   "cell_type": "markdown",
   "metadata": {},
   "source": [
    "# Lung Cancer Analysis & Prediction using CovNet"
   ]
  },
  {
   "cell_type": "code",
   "execution_count": 23,
   "metadata": {},
   "outputs": [],
   "source": [
    "# load the libraries\n",
    "import numpy as np\n",
    "import pandas as pd\n",
    "from numpy import loadtxt \n",
    "from tensorflow.keras.models import Sequential\n",
    "from tensorflow.keras.layers import BatchNormalization, Conv2D, Flatten, Dense"
   ]
  },
  {
   "cell_type": "code",
   "execution_count": 24,
   "metadata": {},
   "outputs": [],
   "source": [
    "# load the dataset\n",
    "dataset = loadtxt(fname=\"survey lung cancer.csv\", delimiter=',', skiprows=1)"
   ]
  },
  {
   "cell_type": "code",
   "execution_count": 25,
   "metadata": {
    "scrolled": true
   },
   "outputs": [
    {
     "name": "stdout",
     "output_type": "stream",
     "text": [
      "[[ 0. 69.  1. ...  2.  2.  2.]\n",
      " [ 0. 74.  2. ...  2.  2.  2.]\n",
      " [ 1. 59.  1. ...  2.  1.  2.]\n",
      " ...\n",
      " [ 1. 38.  2. ...  2.  1.  2.]\n",
      " [ 0. 26.  2. ...  1.  1.  1.]\n",
      " [ 0. 61.  2. ...  2.  1.  1.]]\n",
      "[1. 1. 2. ... 1. 2. 2.]\n"
     ]
    }
   ],
   "source": [
    "# split data into input and output variables\n",
    "feature_vector = dataset[:, 0:15]\n",
    "target_vector = dataset[:, 15]\n",
    "print(feature_vector)\n",
    "print(target_vector)"
   ]
  },
  {
   "cell_type": "code",
   "execution_count": 32,
   "metadata": {},
   "outputs": [],
   "source": [
    "# reshape the data to simulate a greyscale image\n",
    "tmp = np.array(feature_vector)\n",
    "tmp = tmp.reshape(-1, 3, 5)\n",
    "feature_vector = pd.DataFrame(sum(map(list, tmp), []))\n",
    "tmp = []\n",
    "for i,g in feature_vector.groupby(np.arange(len(feature_vector)) // 2):\n",
    "    tmp.append(g)\n",
    "tmp = np.array([i.to_numpy() for i in tmp])\n",
    "feature_vector = tmp.reshape(55394, 3, 5, 1)#error"
   ]
  },
  {
   "cell_type": "code",
   "execution_count": 33,
   "metadata": {},
   "outputs": [],
   "source": [
    "# define the keras model\n",
    "model = Sequential()\n",
    "model.add(Conv2D(1, activation=\"relu\", kernel_size=2, input_shape=(3, 5, 1)))\n",
    "model.add(BatchNormalization())\n",
    "model.add(Flatten())\n",
    "model.add(Dense(1, input_shape=(3, 5, 1), activation='sigmoid'))"
   ]
  },
  {
   "cell_type": "code",
   "execution_count": 38,
   "metadata": {},
   "outputs": [
    {
     "name": "stdout",
     "output_type": "stream",
     "text": [
      "Model: \"sequential_4\"\n",
      "_________________________________________________________________\n",
      " Layer (type)                Output Shape              Param #   \n",
      "=================================================================\n",
      " conv2d_3 (Conv2D)           (None, 2, 4, 1)           5         \n",
      "                                                                 \n",
      " batch_normalization_3 (Batc  (None, 2, 4, 1)          4         \n",
      " hNormalization)                                                 \n",
      "                                                                 \n",
      " flatten_2 (Flatten)         (None, 8)                 0         \n",
      "                                                                 \n",
      " dense_2 (Dense)             (None, 1)                 9         \n",
      "                                                                 \n",
      "=================================================================\n",
      "Total params: 18\n",
      "Trainable params: 16\n",
      "Non-trainable params: 2\n",
      "_________________________________________________________________\n"
     ]
    }
   ],
   "source": [
    "model.summary()"
   ]
  },
  {
   "cell_type": "code",
   "execution_count": 40,
   "metadata": {},
   "outputs": [
    {
     "name": "stdout",
     "output_type": "stream",
     "text": [
      "You must install pydot (`pip install pydot`) and install graphviz (see instructions at https://graphviz.gitlab.io/download/) for plot_model to work.\n"
     ]
    }
   ],
   "source": [
    "from tensorflow.keras.utils import plot_model\n",
    "plot_model(\n",
    "    model,\n",
    "    to_file=\"model.png\",\n",
    "    show_shapes=True,\n",
    "    show_layer_names=True,\n",
    "    rankdir=\"TB\",\n",
    "    expand_nested=True,\n",
    "    dpi=96,\n",
    ")"
   ]
  },
  {
   "cell_type": "code",
   "execution_count": 34,
   "metadata": {},
   "outputs": [],
   "source": [
    "# compile the keras model\n",
    "model.compile(loss='binary_crossentropy', optimizer='adam', metrics=['accuracy'])"
   ]
  },
  {
   "cell_type": "code",
   "execution_count": 46,
   "metadata": {},
   "outputs": [
    {
     "name": "stdout",
     "output_type": "stream",
     "text": [
      "Epoch 1/20\n",
      "1732/1732 [==============================] - 6s 3ms/step - loss: -29123.1777 - accuracy: 0.5039 - val_loss: -29783.9688 - val_accuracy: 0.5039\n",
      "Epoch 2/20\n",
      "1732/1732 [==============================] - 6s 3ms/step - loss: -30511.2363 - accuracy: 0.5039 - val_loss: -31158.8496 - val_accuracy: 0.5039\n",
      "Epoch 3/20\n",
      "1732/1732 [==============================] - 6s 3ms/step - loss: -31934.8184 - accuracy: 0.5039 - val_loss: -32607.6855 - val_accuracy: 0.5039\n",
      "Epoch 4/20\n",
      "1732/1732 [==============================] - 6s 3ms/step - loss: -33395.6641 - accuracy: 0.5039 - val_loss: -34090.6641 - val_accuracy: 0.5039\n",
      "Epoch 5/20\n",
      "1732/1732 [==============================] - 6s 3ms/step - loss: -34877.8906 - accuracy: 0.5039 - val_loss: -35571.6914 - val_accuracy: 0.5039\n",
      "Epoch 6/20\n",
      "1732/1732 [==============================] - 6s 4ms/step - loss: -36390.0078 - accuracy: 0.5039 - val_loss: -37128.8242 - val_accuracy: 0.5039\n",
      "Epoch 7/20\n",
      "1732/1732 [==============================] - 6s 3ms/step - loss: -37939.3203 - accuracy: 0.5039 - val_loss: -38640.4414 - val_accuracy: 0.5039\n",
      "Epoch 8/20\n",
      "1732/1732 [==============================] - 6s 3ms/step - loss: -39519.6680 - accuracy: 0.5039 - val_loss: -40289.4492 - val_accuracy: 0.5039\n",
      "Epoch 9/20\n",
      "1732/1732 [==============================] - 6s 4ms/step - loss: -41132.3828 - accuracy: 0.5039 - val_loss: -41974.0039 - val_accuracy: 0.5039\n",
      "Epoch 10/20\n",
      "1732/1732 [==============================] - 6s 3ms/step - loss: -42775.5742 - accuracy: 0.5039 - val_loss: -43652.9258 - val_accuracy: 0.5039\n",
      "Epoch 11/20\n",
      "1732/1732 [==============================] - 6s 3ms/step - loss: -44451.6094 - accuracy: 0.5039 - val_loss: -45191.6992 - val_accuracy: 0.5039\n",
      "Epoch 12/20\n",
      "1732/1732 [==============================] - 6s 3ms/step - loss: -46164.3750 - accuracy: 0.5039 - val_loss: -47046.8750 - val_accuracy: 0.5039\n",
      "Epoch 13/20\n",
      "1732/1732 [==============================] - 6s 3ms/step - loss: -47899.5430 - accuracy: 0.5039 - val_loss: -48783.3672 - val_accuracy: 0.5039\n",
      "Epoch 14/20\n",
      "1732/1732 [==============================] - 6s 3ms/step - loss: -49665.7148 - accuracy: 0.5039 - val_loss: -50348.0000 - val_accuracy: 0.5039\n",
      "Epoch 15/20\n",
      "1732/1732 [==============================] - 6s 3ms/step - loss: -51480.6055 - accuracy: 0.5039 - val_loss: -52305.5312 - val_accuracy: 0.5039\n",
      "Epoch 16/20\n",
      "1732/1732 [==============================] - 6s 3ms/step - loss: -53311.0742 - accuracy: 0.5039 - val_loss: -54158.8359 - val_accuracy: 0.5039\n",
      "Epoch 17/20\n",
      "1732/1732 [==============================] - 6s 3ms/step - loss: -55176.9922 - accuracy: 0.5039 - val_loss: -55948.2383 - val_accuracy: 0.5039\n",
      "Epoch 18/20\n",
      "1732/1732 [==============================] - 6s 4ms/step - loss: -57081.9375 - accuracy: 0.5039 - val_loss: -58003.5469 - val_accuracy: 0.5039\n",
      "Epoch 19/20\n",
      "1732/1732 [==============================] - 6s 3ms/step - loss: -59004.7266 - accuracy: 0.5039 - val_loss: -60012.7891 - val_accuracy: 0.5039\n",
      "Epoch 20/20\n",
      "1732/1732 [==============================] - 6s 3ms/step - loss: -60968.9336 - accuracy: 0.5039 - val_loss: -61834.7383 - val_accuracy: 0.5039\n"
     ]
    }
   ],
   "source": [
    "# fit the keras model on the dataset\n",
    "history = model.fit(feature_vector, target_vector, epochs=20, batch_size=0, validation_data=(feature_vector, target_vector))"
   ]
  },
  {
   "cell_type": "code",
   "execution_count": 47,
   "metadata": {
    "scrolled": true
   },
   "outputs": [
    {
     "name": "stdout",
     "output_type": "stream",
     "text": [
      "1732/1732 [==============================] - 3s 2ms/step - loss: -61834.7383 - accuracy: 0.5039\n"
     ]
    }
   ],
   "source": [
    "# evaluate the keras model\n",
    "accuracy = model.evaluate(feature_vector, target_vector)"
   ]
  },
  {
   "cell_type": "code",
   "execution_count": 48,
   "metadata": {},
   "outputs": [],
   "source": [
    "import pandas as pd\n",
    "metrics_df = pd.DataFrame(history.history)"
   ]
  },
  {
   "cell_type": "code",
   "execution_count": 49,
   "metadata": {},
   "outputs": [
    {
     "data": {
      "image/png": "[encoded data removed]",
      "text/plain": [
       "<Figure size 432x288 with 1 Axes>"
      ]
     },
     "metadata": {
      "needs_background": "light"
     },
     "output_type": "display_data"
    }
   ],
   "source": [
    "metrics_df[[\"loss\",\"val_loss\"]].plot();"
   ]
  },
  {
   "cell_type": "code",
   "execution_count": 50,
   "metadata": {},
   "outputs": [
    {
     "data": {
      "image/png": "[encoded data removed]",
      "text/plain": [
       "<Figure size 432x288 with 1 Axes>"
      ]
     },
     "metadata": {
      "needs_background": "light"
     },
     "output_type": "display_data"
    }
   ],
   "source": [
    "metrics_df[[\"accuracy\",\"val_accuracy\"]].plot();"
   ]
  }
 ],
 "metadata": {
  "kernelspec": {
   "display_name": "Python 3",
   "language": "python",
   "name": "python3"
  },
  "language_info": {
   "codemirror_mode": {
    "name": "ipython",
    "version": 3
   },
   "file_extension": ".py",
   "mimetype": "text/x-python",
   "name": "python",
   "nbconvert_exporter": "python",
   "pygments_lexer": "ipython3",
   "version": "3.8.5"
  }
 },
 "nbformat": 4,
 "nbformat_minor": 4
}
